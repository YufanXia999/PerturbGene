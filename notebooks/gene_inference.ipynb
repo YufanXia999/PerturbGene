{
 "cells": [
  {
   "cell_type": "code",
   "execution_count": 1,
   "metadata": {},
   "outputs": [
    {
     "name": "stderr",
     "output_type": "stream",
     "text": [
      "/home/yufan/.venv/lib/python3.10/site-packages/tqdm/auto.py:21: TqdmWarning: IProgress not found. Please update jupyter and ipywidgets. See https://ipywidgets.readthedocs.io/en/stable/user_install.html\n",
      "  from .autonotebook import tqdm as notebook_tqdm\n"
     ]
    }
   ],
   "source": [
    "%load_ext autoreload\n",
    "%autoreload 2\n",
    "import sys\n",
    "sys.path.append(\"/home/yufan\")  # parent of `perturbgene` directory\n",
    "\n",
    "import os\n",
    "import pickle\n",
    "\n",
    "import matplotlib.pyplot as plt\n",
    "import numpy as np\n",
    "from tqdm import tqdm  # https://discuss.pytorch.org/t/error-while-multiprocessing-in-dataloader/46845/9\n",
    "from braceexpand import braceexpand\n",
    "from perturbgene.data_utils import GeneTokenizer, read_h5ad_file\n",
    "from perturbgene.data_utils.data_collators import collate_fn_wrapper\n",
    "from perturbgene.model import  GeneBertModel\n",
    "from perturbgene.inference_utils import get_inference_config, get_gene_embedding"
   ]
  },
  {
   "cell_type": "code",
   "execution_count": 2,
   "metadata": {},
   "outputs": [],
   "source": [
    "# model initialization\n",
    "device = \"cuda:0\"\n",
    "model_checkpt_path = \"/storage_bizon/bizon_filesystem/output_2gpu_mlm_015gene_050pheno_vastai_10000_mlm_bins10/checkpoint-305000\"\n",
    "model = GeneBertModel.from_pretrained(model_checkpt_path,output_hidden_states=True)\n",
    "model.eval()\n",
    "model.to(device)\n",
    "\n",
    "# tokenizer loading and wrapping\n",
    "# Load tokenizer first, so that we can get the config\n",
    "expected_tokenizer_path = os.path.join(\n",
    "    os.path.dirname(model_checkpt_path),\n",
    "    \"tokenizer.pkl\",\n",
    ")\n",
    "\n",
    "if os.path.isfile(expected_tokenizer_path):\n",
    "    with open(expected_tokenizer_path, \"rb\") as f:\n",
    "        tokenizer = pickle.load(f)\n",
    "else:\n",
    "    print(\"Saved tokenizer not found, creating tokenizer with common parameters\")\n",
    "    tokenizer = GeneTokenizer(get_inference_config(  # change these parameters\n",
    "        bin_edges=[0.1], \n",
    "        pretrained_model_path=model_checkpt_path,  # needs to be a path that exists\n",
    "        max_length=130,        \n",
    "        num_top_genes=128\n",
    "    ))\n",
    "\n",
    "tokenizer.config.vocab_path = os.path.join(\"/home/yufan/\", tokenizer.config.vocab_path)  # rel path -> abs path\n",
    "config = tokenizer.config\n",
    "\n",
    "data_collator = collate_fn_wrapper(tokenizer)"
   ]
  },
  {
   "cell_type": "code",
   "execution_count": 3,
   "metadata": {},
   "outputs": [],
   "source": [
    "validation_data = read_h5ad_file(\"Tabula_Sapiens_ranked_47.h5ad\", config.num_top_genes)"
   ]
  },
  {
   "cell_type": "code",
   "execution_count": 4,
   "metadata": {},
   "outputs": [
    {
     "data": {
      "text/plain": [
       "torch.Size([1, 1024])"
      ]
     },
     "execution_count": 4,
     "metadata": {},
     "output_type": "execute_result"
    }
   ],
   "source": [
    "cell = validation_data[1000]\n",
    "emb = get_gene_embedding(cell, model, tokenizer, data_collator,\"MT-TP\")\n",
    "emb.shape"
   ]
  },
  {
   "cell_type": "code",
   "execution_count": 5,
   "metadata": {},
   "outputs": [
    {
     "data": {
      "text/plain": [
       "ensemblid\n",
       "ENSG00000223972        DDX11L1\n",
       "ENSG00000227232         WASH7P\n",
       "ENSG00000278267      MIR6859-1\n",
       "ENSG00000243485    MIR1302-2HG\n",
       "ENSG00000284332      MIR1302-2\n",
       "                      ...     \n",
       "ENSG00000198695         MT-ND6\n",
       "ENSG00000210194          MT-TE\n",
       "ENSG00000198727         MT-CYB\n",
       "ENSG00000210195          MT-TT\n",
       "ENSG00000210196          MT-TP\n",
       "Name: feature_name, Length: 58604, dtype: category\n",
       "Categories (58604, object): ['5S_rRNA_ENSG00000276861', '5S_rRNA_ENSG00000277411', '5S_rRNA_ENSG00000277488', '5S_rRNA_ENSG00000285609', ..., 'hsa-mir-1253', 'hsa-mir-423', 'snoZ196_ENSG00000281780', 'yR211F11.2']"
      ]
     },
     "execution_count": 5,
     "metadata": {},
     "output_type": "execute_result"
    }
   ],
   "source": [
    "cell.var[\"feature_name\"]"
   ]
  }
 ],
 "metadata": {
  "kernelspec": {
   "display_name": ".venv",
   "language": "python",
   "name": "python3"
  },
  "language_info": {
   "codemirror_mode": {
    "name": "ipython",
    "version": 3
   },
   "file_extension": ".py",
   "mimetype": "text/x-python",
   "name": "python",
   "nbconvert_exporter": "python",
   "pygments_lexer": "ipython3",
   "version": "3.10.12"
  }
 },
 "nbformat": 4,
 "nbformat_minor": 2
}
