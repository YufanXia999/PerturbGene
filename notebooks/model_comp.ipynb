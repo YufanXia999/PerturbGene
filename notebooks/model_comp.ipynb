{
 "cells": [
  {
   "cell_type": "code",
   "execution_count": 1,
   "metadata": {},
   "outputs": [
    {
     "name": "stderr",
     "output_type": "stream",
     "text": [
      "/Users/yufanxia/Documents/GitHub/perturbgene/venv/lib/python3.11/site-packages/tqdm/auto.py:21: TqdmWarning: IProgress not found. Please update jupyter and ipywidgets. See https://ipywidgets.readthedocs.io/en/stable/user_install.html\n",
      "  from .autonotebook import tqdm as notebook_tqdm\n"
     ]
    }
   ],
   "source": [
    "import os\n",
    "import pickle\n",
    "import torch\n",
    "import matplotlib.pyplot as plt\n",
    "import numpy as np\n",
    "from tqdm import tqdm\n",
    "import json\n",
    "import sys\n",
    "sys.path.append(\"/Users/yufanxia/Documents/GitHub\")\n",
    "from perturbgene.data_utils import GeneTokenizer, read_h5ad_file\n",
    "import scanpy as sc\n",
    "import numpy as np\n",
    "import seaborn as sns\n",
    "import matplotlib.pyplot as plt\n",
    "from sklearn.metrics.pairwise import cosine_similarity\n",
    "import pandas as pd\n",
    "import itertools"
   ]
  },
  {
   "cell_type": "code",
   "execution_count": 2,
   "metadata": {},
   "outputs": [
    {
     "name": "stderr",
     "output_type": "stream",
     "text": [
      "/Users/yufanxia/Documents/GitHub/perturbgene/venv/lib/python3.11/site-packages/anndata/_core/anndata.py:1818: UserWarning: Observation names are not unique. To make them unique, call `.obs_names_make_unique`.\n",
      "  utils.warn_names_duplicates(\"obs\")\n"
     ]
    },
    {
     "data": {
      "text/plain": [
       "AnnData object with n_obs × n_vars = 10000 × 58604\n",
       "    obs: 'soma_joinid_column', 'dataset_id', 'assay', 'assay_ontology_term_id', 'cell_type', 'cell_type_ontology_term_id', 'development_stage', 'development_stage_ontology_term_id', 'disease', 'disease_ontology_term_id', 'donor_id', 'is_primary_data', 'self_reported_ethnicity', 'self_reported_ethnicity_ontology_term_id', 'sex', 'sex_ontology_term_id', 'suspension_type', 'tissue', 'tissue_ontology_term_id', 'tissue_general', 'tissue_general_ontology_term_id', 'raw_sum', 'nnz', 'raw_mean_nnz', 'raw_variance_nnz', 'n_measured_vars', 'batch', 'ZBED1_embedding_status', 'TRAF5_embedding_status', 'GSK3A_embedding_status', 'FBXL19_embedding_status', 'RBX1_embedding_status', 'FBXO7_embedding_status', 'CUL1_embedding_status', 'PINK1_embedding_status', 'PARK7_embedding_status', 'GIGYF2_embedding_status', 'ATP13A2_embedding_status', 'PRKN_embedding_status', 'PLA2G6_embedding_status', 'SKP1_embedding_status', 'LONP2_embedding_status', 'CNTNAP2_embedding_status', 'PPP1CB_embedding_status', 'CNTN1_embedding_status', 'KCNH7_embedding_status', 'SNX29_embedding_status', 'EXOC4_embedding_status', 'FOXJ3_embedding_status', 'CACYBP_embedding_status', 'CNTN5_embedding_status', 'PPP3CA_embedding_status', 'HIVEP2_embedding_status', 'IMMP2L_embedding_status', 'IFITM3_embedding_status', 'COA1_embedding_status', 'UBAC2_embedding_status', 'MAGI3_embedding_status', 'MIR99AHG_embedding_status', 'CAMTA1_embedding_status', 'NAGK_embedding_status', 'ARHGAP21_embedding_status', 'COX7A2_embedding_status', 'CDKAL1_embedding_status', 'ZBTB20_embedding_status', 'IGHG2_embedding_status', 'IGKV1-5_embedding_status', 'IGLC3_embedding_status', 'IGKV4-1_embedding_status', 'IGLV1-51_embedding_status', 'IGHG4_embedding_status', 'IGHM_embedding_status', 'IGLC2_embedding_status', 'IGLL5_embedding_status', 'IGKV3-20_embedding_status', 'IGKV3-11_embedding_status', 'IGHG1_embedding_status', 'IGLV3-21_embedding_status', 'IGLV2-14_embedding_status', 'IGHV4-59_embedding_status', 'IGKV3-15_embedding_status', 'IGHV1-18_embedding_status', 'IGHV3-7_embedding_status', 'IGLV1-44_embedding_status', 'IGLV3-1_embedding_status', 'IGLV2-11_embedding_status', 'IGHA1_embedding_status', 'IGHV3-21_embedding_status', 'IGKV2D-28_embedding_status', 'IGLV3-25_embedding_status', 'IGHG3_embedding_status', 'IGKV1-17_embedding_status', 'IGKV3D-20_embedding_status', 'IGHV3-11_embedding_status', 'IGLV2-23_embedding_status', 'IGKC_embedding_status', 'IGLV8-61_embedding_status', 'IGHV1-3_embedding_status', 'IGLV4-69_embedding_status', 'IGHV4-39_embedding_status', 'IGLV1-47_embedding_status', 'IGHA2_embedding_status', 'IGLV6-57_embedding_status', 'IGKV1-9_embedding_status', 'IGHV2-5_embedding_status', 'IGKV1-12_embedding_status', 'IGHV5-10-1_embedding_status', 'IGHV2-26_embedding_status', 'IGLV3-19_embedding_status', 'IGLV7-46_embedding_status', 'IGHV3-15_embedding_status', 'IGHV3-48_embedding_status', 'IGHV1-2_embedding_status', 'IGLV3-10_embedding_status', 'IGKV1D-33_embedding_status', 'IGHV1-24_embedding_status', 'IGHV3-30_embedding_status', 'IGHV3-23_embedding_status', 'IGHV3-73_embedding_status', 'IGHV4-34_embedding_status', 'IGKV2-28_embedding_status', 'IGHV5-51_embedding_status', 'IGHV1-46_embedding_status', 'IGHV4-61_embedding_status', 'IGLV3-9_embedding_status', 'IGHV4-4_embedding_status', 'IGHV3-66_embedding_status', 'IGHD_embedding_status', 'IGLV1-36_embedding_status', 'IGKV1D-43_embedding_status', 'IGHV4-28_embedding_status', 'IGHV3-33_embedding_status', 'IGKV1-33_embedding_status', 'IGHV4-31_embedding_status', 'IGHV3-53_embedding_status', 'IGHV3-13_embedding_status', 'IGKV1-8_embedding_status', 'IGKV6D-21_embedding_status', 'IGKV1D-8_embedding_status', 'IGLV7-43_embedding_status', 'IGHGP_embedding_status', 'IGLV3-16_embedding_status', 'IGFBP5_embedding_status', 'IGLV5-52_embedding_status', 'IGF2_embedding_status', 'IGDCC3_embedding_status', 'cell_type_embedding_status'\n",
       "    var: 'soma_joinid', 'feature_id', 'feature_name', 'feature_length', 'nnz', 'n_measured_obs', 'feature_type', 'feature_reference', 'feature_biotype', 'highly_variable', 'highly_variable_rank', 'means', 'variances', 'variances_norm'\n",
       "    obsm: 'ARHGAP21_embeddings', 'ATP13A2_embeddings', 'CACYBP_embeddings', 'CAMTA1_embeddings', 'CDKAL1_embeddings', 'CNTN1_embeddings', 'CNTN5_embeddings', 'CNTNAP2_embeddings', 'COA1_embeddings', 'COX7A2_embeddings', 'CUL1_embeddings', 'EXOC4_embeddings', 'FBXL19_embeddings', 'FBXO7_embeddings', 'FOXJ3_embeddings', 'GIGYF2_embeddings', 'GSK3A_embeddings', 'HIVEP2_embeddings', 'IFITM3_embeddings', 'IGDCC3_embeddings', 'IGF2_embeddings', 'IGFBP5_embeddings', 'IGHA1_embeddings', 'IGHA2_embeddings', 'IGHD_embeddings', 'IGHG1_embeddings', 'IGHG2_embeddings', 'IGHG3_embeddings', 'IGHG4_embeddings', 'IGHGP_embeddings', 'IGHM_embeddings', 'IGHV1-18_embeddings', 'IGHV1-24_embeddings', 'IGHV1-2_embeddings', 'IGHV1-3_embeddings', 'IGHV1-46_embeddings', 'IGHV2-26_embeddings', 'IGHV2-5_embeddings', 'IGHV3-11_embeddings', 'IGHV3-13_embeddings', 'IGHV3-15_embeddings', 'IGHV3-21_embeddings', 'IGHV3-23_embeddings', 'IGHV3-30_embeddings', 'IGHV3-33_embeddings', 'IGHV3-48_embeddings', 'IGHV3-53_embeddings', 'IGHV3-66_embeddings', 'IGHV3-73_embeddings', 'IGHV3-7_embeddings', 'IGHV4-28_embeddings', 'IGHV4-31_embeddings', 'IGHV4-34_embeddings', 'IGHV4-39_embeddings', 'IGHV4-4_embeddings', 'IGHV4-59_embeddings', 'IGHV4-61_embeddings', 'IGHV5-10-1_embeddings', 'IGHV5-51_embeddings', 'IGKC_embeddings', 'IGKV1-12_embeddings', 'IGKV1-17_embeddings', 'IGKV1-33_embeddings', 'IGKV1-5_embeddings', 'IGKV1-8_embeddings', 'IGKV1-9_embeddings', 'IGKV1D-33_embeddings', 'IGKV1D-43_embeddings', 'IGKV1D-8_embeddings', 'IGKV2-28_embeddings', 'IGKV2D-28_embeddings', 'IGKV3-11_embeddings', 'IGKV3-15_embeddings', 'IGKV3-20_embeddings', 'IGKV3D-20_embeddings', 'IGKV4-1_embeddings', 'IGKV6D-21_embeddings', 'IGLC2_embeddings', 'IGLC3_embeddings', 'IGLL5_embeddings', 'IGLV1-36_embeddings', 'IGLV1-44_embeddings', 'IGLV1-47_embeddings', 'IGLV1-51_embeddings', 'IGLV2-11_embeddings', 'IGLV2-14_embeddings', 'IGLV2-23_embeddings', 'IGLV3-10_embeddings', 'IGLV3-16_embeddings', 'IGLV3-19_embeddings', 'IGLV3-1_embeddings', 'IGLV3-21_embeddings', 'IGLV3-25_embeddings', 'IGLV3-9_embeddings', 'IGLV4-69_embeddings', 'IGLV5-52_embeddings', 'IGLV6-57_embeddings', 'IGLV7-43_embeddings', 'IGLV7-46_embeddings', 'IGLV8-61_embeddings', 'IMMP2L_embeddings', 'KCNH7_embeddings', 'LONP2_embeddings', 'MAGI3_embeddings', 'MIR99AHG_embeddings', 'NAGK_embeddings', 'PARK7_embeddings', 'PINK1_embeddings', 'PLA2G6_embeddings', 'PPP1CB_embeddings', 'PPP3CA_embeddings', 'PRKN_embeddings', 'RBX1_embeddings', 'SKP1_embeddings', 'SNX29_embeddings', 'TRAF5_embeddings', 'UBAC2_embeddings', 'ZBED1_embeddings', 'ZBTB20_embeddings', 'cell_type_embeddings', 'development_stage_embeddings', 'tissue_embeddings'"
      ]
     },
     "execution_count": 2,
     "metadata": {},
     "output_type": "execute_result"
    }
   ],
   "source": [
    "adata = sc.read_h5ad(\"/Users/yufanxia/Downloads/chunk3562_processed3.h5ad\")\n",
    "#adata.obs[\"age_group\"] = adata.obs[\"development_stage\"].map(age_label_mapping_10).to_list()\n",
    "adata"
   ]
  },
  {
   "cell_type": "code",
   "execution_count": null,
   "metadata": {},
   "outputs": [],
   "source": [
    "/Users/yufanxia/Downloads/cell_100.npy"
   ]
  },
  {
   "cell_type": "code",
   "execution_count": 14,
   "metadata": {},
   "outputs": [
    {
     "data": {
      "text/plain": [
       "array(['29-year-old human stage', '6-year-old human stage',\n",
       "       '49-year-old human stage', '11-month-old human stage',\n",
       "       '17th week post-fertilization human stage',\n",
       "       'fifth decade human stage', '67-year-old human stage',\n",
       "       '44-year-old human stage',\n",
       "       '17th week post-fertilization human stage',\n",
       "       'third decade human stage', '78-year-old human stage',\n",
       "       'Carnegie stage 23', 'sixth decade human stage',\n",
       "       '17th week post-fertilization human stage',\n",
       "       '80 year-old and over human stage', '63-year-old human stage',\n",
       "       '59-year-old human stage', 'ninth decade human stage', 'unknown',\n",
       "       '80 year-old and over human stage',\n",
       "       '14th week post-fertilization human stage',\n",
       "       '15th week post-fertilization human stage',\n",
       "       '75-year-old human stage', '80 year-old and over human stage',\n",
       "       '41-year-old human stage', '87-year-old human stage',\n",
       "       'sixth decade human stage', '1-month-old human stage',\n",
       "       '14th week post-fertilization human stage',\n",
       "       '82-year-old human stage', '27-year-old human stage',\n",
       "       '15th week post-fertilization human stage',\n",
       "       '15th week post-fertilization human stage',\n",
       "       '3-month-old human stage', '7-year-old human stage',\n",
       "       '15th week post-fertilization human stage', 'mature stage',\n",
       "       'ninth decade human stage', 'mature stage',\n",
       "       '64-year-old human stage', '67-year-old human stage',\n",
       "       '10th week post-fertilization human stage',\n",
       "       '16th week post-fertilization human stage',\n",
       "       'seventh decade human stage', '63-year-old human stage',\n",
       "       '7-month-old human stage', 'human adult stage',\n",
       "       '6-year-old human stage', '82-year-old human stage',\n",
       "       '12th week post-fertilization human stage',\n",
       "       '17th week post-fertilization human stage',\n",
       "       '17th week post-fertilization human stage',\n",
       "       '15th week post-fertilization human stage',\n",
       "       'sixth decade human stage', '33-year-old human stage',\n",
       "       '17th week post-fertilization human stage',\n",
       "       '84-year-old human stage', '29-year-old human stage',\n",
       "       '75-year-old human stage',\n",
       "       '12th week post-fertilization human stage', 'mature stage',\n",
       "       '40-year-old human stage', '68-year-old human stage',\n",
       "       'fifth LMP month human stage', '43-year-old human stage',\n",
       "       '80 year-old and over human stage', '82-year-old human stage',\n",
       "       '50-year-old human stage', '42-year-old human stage',\n",
       "       'Carnegie stage 20', '77-year-old human stage',\n",
       "       '60-year-old human stage', 'mature stage',\n",
       "       '67-year-old human stage', '29-year-old human stage',\n",
       "       '59-year-old human stage', 'Carnegie stage 22',\n",
       "       'eighth decade human stage', '36-year-old human stage',\n",
       "       '12th week post-fertilization human stage', 'Carnegie stage 23',\n",
       "       '3-year-old human stage', '90-year-old human stage',\n",
       "       '74-year-old human stage', '26-year-old human stage', 'unknown',\n",
       "       '30-year-old human stage', '88-year-old human stage',\n",
       "       '80-year-old human stage',\n",
       "       '16th week post-fertilization human stage',\n",
       "       '14th week post-fertilization human stage', 'unknown',\n",
       "       '13th week post-fertilization human stage',\n",
       "       '13th week post-fertilization human stage',\n",
       "       '80 year-old and over human stage', '92-year-old human stage',\n",
       "       'seventh decade human stage', 'unknown',\n",
       "       'ninth decade human stage', 'unknown'], dtype='<U40')"
      ]
     },
     "execution_count": 14,
     "metadata": {},
     "output_type": "execute_result"
    }
   ],
   "source": [
    "target"
   ]
  },
  {
   "cell_type": "code",
   "execution_count": 23,
   "metadata": {},
   "outputs": [
    {
     "name": "stderr",
     "output_type": "stream",
     "text": [
      "/Users/yufanxia/Documents/GitHub/perturbgene/venv/lib/python3.11/site-packages/sklearn/linear_model/_logistic.py:1256: FutureWarning: 'multi_class' was deprecated in version 1.5 and will be removed in 1.7. Use OneVsRestClassifier(LogisticRegression(..)) instead. Leave it to its default value to avoid this warning.\n",
      "  warnings.warn(\n"
     ]
    },
    {
     "name": "stdout",
     "output_type": "stream",
     "text": [
      "Accuracy: 0.9155\n"
     ]
    }
   ],
   "source": [
    "import numpy as np\n",
    "from sklearn.linear_model import LogisticRegression\n",
    "from sklearn.model_selection import train_test_split\n",
    "from sklearn.metrics import accuracy_score\n",
    "from sklearn.preprocessing import OneHotEncoder\n",
    "\n",
    "# Convert to np.array using toarray() to avoid matrix issues\n",
    "embeddings = np.asarray(adata.X.toarray())  # shape: (n_samples, embedding_dim)\n",
    "target = np.array(adata.obs[\"development_stage\"].to_list())  # shape: (n_samples,)\n",
    "\n",
    "# One-hot encode the categorical labels\n",
    "encoder = OneHotEncoder(sparse_output=False)\n",
    "target_onehot = encoder.fit_transform(target.reshape(-1, 1))  # convert target into 2D before encoding\n",
    "\n",
    "# Split data into training and testing sets\n",
    "X_train, X_test, y_train, y_test = train_test_split(embeddings, target_onehot, test_size=0.2, random_state=42)\n",
    "\n",
    "# Train a logistic regression model (multi-class)\n",
    "model = LogisticRegression(max_iter=1000, multi_class='ovr')\n",
    "model.fit(X_train, np.argmax(y_train, axis=1))  # Using argmax to convert back to label format for logistic regression\n",
    "\n",
    "# Predict and evaluate\n",
    "y_pred = model.predict(X_test)\n",
    "accuracy = accuracy_score(np.argmax(y_test, axis=1), y_pred)\n",
    "print(f\"Accuracy: {accuracy}\")\n"
   ]
  },
  {
   "cell_type": "code",
   "execution_count": 22,
   "metadata": {},
   "outputs": [
    {
     "name": "stdout",
     "output_type": "stream",
     "text": [
      "Epoch [100/1000], Loss: 0.0000\n",
      "Epoch [200/1000], Loss: 0.0000\n",
      "Epoch [300/1000], Loss: 0.0000\n",
      "Epoch [400/1000], Loss: 0.0000\n",
      "Epoch [500/1000], Loss: 0.0000\n",
      "Epoch [600/1000], Loss: 0.0000\n",
      "Epoch [700/1000], Loss: 0.0000\n",
      "Epoch [800/1000], Loss: 0.0000\n",
      "Epoch [900/1000], Loss: 0.0000\n",
      "Epoch [1000/1000], Loss: 0.0000\n",
      "0.0\n"
     ]
    }
   ],
   "source": [
    "import torch\n",
    "import torch.nn as nn\n",
    "import torch.optim as optim\n",
    "from sklearn.model_selection import train_test_split\n",
    "from sklearn.preprocessing import LabelEncoder\n",
    "from sklearn.metrics import accuracy_score\n",
    "import numpy as np\n",
    "\n",
    "# Prepare the data\n",
    "embeddings = np.asarray(adata.X[:100, :].toarray())  # shape: (n_samples, embedding_dim)\n",
    "target = np.array(adata.obs[\"development_stage\"].to_list()[:100])  # shape: (n_samples,)\n",
    "\n",
    "# Encode the categorical labels to integers\n",
    "label_encoder = LabelEncoder()\n",
    "target_encoded = label_encoder.fit_transform(target)  # Convert to integers\n",
    "\n",
    "# Split the data into training and testing sets\n",
    "X_train, X_test, y_train, y_test = train_test_split(embeddings, target_encoded, test_size=0.2, random_state=42)\n",
    "\n",
    "# Convert to torch tensors\n",
    "X_train = torch.tensor(X_train, dtype=torch.float32)\n",
    "X_test = torch.tensor(X_test, dtype=torch.float32)\n",
    "y_train = torch.tensor(y_train, dtype=torch.long)  # For classification, labels should be long integers\n",
    "y_test = torch.tensor(y_test, dtype=torch.long)\n",
    "\n",
    "# Define a simple neural network\n",
    "class SimpleNN(nn.Module):\n",
    "    def __init__(self, input_size, hidden_size, num_classes):\n",
    "        super(SimpleNN, self).__init__()\n",
    "        self.fc1 = nn.Linear(input_size, hidden_size)\n",
    "        self.relu = nn.ReLU()\n",
    "        self.fc2 = nn.Linear(hidden_size, num_classes)\n",
    "    \n",
    "    def forward(self, x):\n",
    "        out = self.fc1(x)\n",
    "        out = self.relu(out)\n",
    "        out = self.fc2(out)\n",
    "        return out\n",
    "\n",
    "# Model parameters\n",
    "input_size = X_train.shape[1]  # Number of embedding dimensions\n",
    "hidden_size = 64               # You can adjust this\n",
    "num_classes = len(np.unique(target_encoded))  # Number of unique labels (development stages)\n",
    "\n",
    "# Create the model\n",
    "model = SimpleNN(input_size, hidden_size, num_classes)\n",
    "\n",
    "# Define the loss function and optimizer\n",
    "criterion = nn.CrossEntropyLoss()  # Suitable for multi-class classification\n",
    "optimizer = optim.Adam(model.parameters(), lr=0.001)\n",
    "\n",
    "# Train the neural network\n",
    "num_epochs = 1000\n",
    "for epoch in range(num_epochs):\n",
    "    # Forward pass\n",
    "    outputs = model(X_train)\n",
    "    loss = criterion(outputs, y_train)\n",
    "\n",
    "    # Backward pass and optimization\n",
    "    optimizer.zero_grad()\n",
    "    loss.backward()\n",
    "    optimizer.step()\n",
    "\n",
    "    if (epoch+1) % 100 == 0:\n",
    "        print(f'Epoch [{epoch+1}/{num_epochs}], Loss: {loss.item():.4f}')\n",
    "\n",
    "# Evaluate the model on the test data\n",
    "model.eval()  # Set the model to evaluation mode\n",
    "with torch.no_grad():\n",
    "    test_outputs = model(X_test)\n",
    "    _, predicted = torch.max(test_outputs, 1)\n",
    "    accuracy = accuracy_score(y_test, predicted)\n",
    "    print(accuracy)"
   ]
  }
 ],
 "metadata": {
  "kernelspec": {
   "display_name": "venv",
   "language": "python",
   "name": "python3"
  },
  "language_info": {
   "codemirror_mode": {
    "name": "ipython",
    "version": 3
   },
   "file_extension": ".py",
   "mimetype": "text/x-python",
   "name": "python",
   "nbconvert_exporter": "python",
   "pygments_lexer": "ipython3",
   "version": "3.11.3"
  }
 },
 "nbformat": 4,
 "nbformat_minor": 2
}
